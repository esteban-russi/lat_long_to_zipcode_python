{
  "cells": [
    {
      "cell_type": "markdown",
      "id": "1a5a1a09",
      "metadata": {
        "id": "1a5a1a09"
      },
      "source": [
        "# Latitude & Longitude to Zipcode using python"
      ]
    },
    {
      "attachments": {},
      "cell_type": "markdown",
      "id": "74cf045d",
      "metadata": {
        "id": "74cf045d"
      },
      "source": [
        "In this exercise, we will use geopy to transform Latitude and Longitude data to the corresponding zipcode."
      ]
    },
    {
      "cell_type": "markdown",
      "id": "6b985af7",
      "metadata": {
        "id": "6b985af7"
      },
      "source": [
        "## Part 1: Obtaining the Data"
      ]
    },
    {
      "cell_type": "code",
      "execution_count": 2,
      "id": "59beef99",
      "metadata": {
        "id": "59beef99"
      },
      "outputs": [],
      "source": [
        "import geopy\n",
        "import pandas as pd"
      ]
    },
    {
      "cell_type": "code",
      "execution_count": 3,
      "id": "1b8f6ad9",
      "metadata": {
        "id": "1b8f6ad9"
      },
      "outputs": [],
      "source": [
        "data = pd.read_csv('station_data.csv')"
      ]
    },
    {
      "cell_type": "markdown",
      "id": "9db57e20",
      "metadata": {
        "id": "9db57e20"
      },
      "source": [
        "## Part 2: Exploring the Data"
      ]
    },
    {
      "cell_type": "code",
      "execution_count": 4,
      "id": "df4f5ce2",
      "metadata": {
        "colab": {
          "base_uri": "https://localhost:8080/"
        },
        "id": "df4f5ce2",
        "outputId": "be59b6a5-1bf6-404b-f5e6-2d2142e00c53"
      },
      "outputs": [
        {
          "name": "stdout",
          "output_type": "stream",
          "text": [
            "Null values: 0\n",
            "Shape: (76, 6)\n"
          ]
        }
      ],
      "source": [
        "print('Null values:',data.isnull().sum().sum())\n",
        "print('Shape:', data.shape)"
      ]
    },
    {
      "cell_type": "code",
      "execution_count": 7,
      "id": "44eeb1df",
      "metadata": {
        "colab": {
          "base_uri": "https://localhost:8080/",
          "height": 206
        },
        "id": "44eeb1df",
        "outputId": "74e56554-43c0-40fc-bb4d-c49c2954dbf7"
      },
      "outputs": [
        {
          "data": {
            "text/html": [
              "<div>\n",
              "<style scoped>\n",
              "    .dataframe tbody tr th:only-of-type {\n",
              "        vertical-align: middle;\n",
              "    }\n",
              "\n",
              "    .dataframe tbody tr th {\n",
              "        vertical-align: top;\n",
              "    }\n",
              "\n",
              "    .dataframe thead th {\n",
              "        text-align: right;\n",
              "    }\n",
              "</style>\n",
              "<table border=\"1\" class=\"dataframe\">\n",
              "  <thead>\n",
              "    <tr style=\"text-align: right;\">\n",
              "      <th></th>\n",
              "      <th>Id</th>\n",
              "      <th>Name</th>\n",
              "      <th>Lat</th>\n",
              "      <th>Long</th>\n",
              "      <th>Dock Count</th>\n",
              "      <th>City</th>\n",
              "    </tr>\n",
              "  </thead>\n",
              "  <tbody>\n",
              "    <tr>\n",
              "      <th>0</th>\n",
              "      <td>2</td>\n",
              "      <td>San Jose Diridon Caltrain Station</td>\n",
              "      <td>37.329732</td>\n",
              "      <td>-121.901782</td>\n",
              "      <td>27</td>\n",
              "      <td>San Jose</td>\n",
              "    </tr>\n",
              "    <tr>\n",
              "      <th>1</th>\n",
              "      <td>3</td>\n",
              "      <td>San Jose Civic Center</td>\n",
              "      <td>37.330698</td>\n",
              "      <td>-121.888979</td>\n",
              "      <td>15</td>\n",
              "      <td>San Jose</td>\n",
              "    </tr>\n",
              "    <tr>\n",
              "      <th>2</th>\n",
              "      <td>4</td>\n",
              "      <td>Santa Clara at Almaden</td>\n",
              "      <td>37.333988</td>\n",
              "      <td>-121.894902</td>\n",
              "      <td>11</td>\n",
              "      <td>San Jose</td>\n",
              "    </tr>\n",
              "    <tr>\n",
              "      <th>3</th>\n",
              "      <td>5</td>\n",
              "      <td>Adobe on Almaden</td>\n",
              "      <td>37.331415</td>\n",
              "      <td>-121.893200</td>\n",
              "      <td>19</td>\n",
              "      <td>San Jose</td>\n",
              "    </tr>\n",
              "    <tr>\n",
              "      <th>4</th>\n",
              "      <td>6</td>\n",
              "      <td>San Pedro Square</td>\n",
              "      <td>37.336721</td>\n",
              "      <td>-121.894074</td>\n",
              "      <td>15</td>\n",
              "      <td>San Jose</td>\n",
              "    </tr>\n",
              "  </tbody>\n",
              "</table>\n",
              "</div>"
            ],
            "text/plain": [
              "   Id                               Name        Lat        Long  Dock Count  \\\n",
              "0   2  San Jose Diridon Caltrain Station  37.329732 -121.901782          27   \n",
              "1   3              San Jose Civic Center  37.330698 -121.888979          15   \n",
              "2   4             Santa Clara at Almaden  37.333988 -121.894902          11   \n",
              "3   5                   Adobe on Almaden  37.331415 -121.893200          19   \n",
              "4   6                   San Pedro Square  37.336721 -121.894074          15   \n",
              "\n",
              "       City  \n",
              "0  San Jose  \n",
              "1  San Jose  \n",
              "2  San Jose  \n",
              "3  San Jose  \n",
              "4  San Jose  "
            ]
          },
          "execution_count": 7,
          "metadata": {},
          "output_type": "execute_result"
        }
      ],
      "source": [
        "data.head()"
      ]
    },
    {
      "cell_type": "markdown",
      "id": "a99f62ad",
      "metadata": {
        "id": "a99f62ad"
      },
      "source": [
        "## Part 3: Defining the Function"
      ]
    },
    {
      "cell_type": "code",
      "execution_count": 31,
      "id": "9d51388a",
      "metadata": {
        "id": "9d51388a"
      },
      "outputs": [],
      "source": [
        "def get_zipcode(df, geolocator, lat_field, lon_field, attempt=1, max_attempts=100):\n",
        "    try:\n",
        "        location = geolocator.reverse((df[lat_field], df[lon_field]), timeout=None)\n",
        "        return location.raw['address']['postcode']\n",
        "    except KeyError:\n",
        "        pass\n",
        "    except GeocoderTimedOut:\n",
        "        if attempt <= max_attempts:\n",
        "            return get_zipcode (df, attempt=attempt+1)\n",
        "        raise \n",
        "'''If error, try different user_agent'''\n",
        "geolocator = geopy.Nominatim(user_agent='1234')\n",
        "#geolocator = geopy.Nominatim(user_agent='check_1')"
      ]
    },
    {
      "cell_type": "markdown",
      "id": "sNvYNyjkJOu9",
      "metadata": {
        "id": "sNvYNyjkJOu9"
      },
      "source": [
        "We defined except clauses in case any pair of lat-long are wrong"
      ]
    },
    {
      "cell_type": "markdown",
      "id": "bf87e98c",
      "metadata": {
        "id": "bf87e98c"
      },
      "source": [
        "## Part 4: Getting zipcodes"
      ]
    },
    {
      "cell_type": "code",
      "execution_count": 32,
      "id": "43385fe0",
      "metadata": {
        "id": "43385fe0"
      },
      "outputs": [],
      "source": [
        "lat_long = data[['Lat','Long']]\n",
        "\n",
        "zipcodes = lat_long.apply(get_zipcode, axis=1, geolocator=geolocator, lat_field='Lat', lon_field='Long')"
      ]
    },
    {
      "cell_type": "code",
      "execution_count": 33,
      "id": "qGLXo9TXGnkI",
      "metadata": {
        "id": "qGLXo9TXGnkI"
      },
      "outputs": [],
      "source": [
        "data['Zipcode']=zipcodes"
      ]
    },
    {
      "cell_type": "code",
      "execution_count": 34,
      "id": "QM4qSEXeGvr-",
      "metadata": {
        "colab": {
          "base_uri": "https://localhost:8080/",
          "height": 206
        },
        "id": "QM4qSEXeGvr-",
        "outputId": "7656057c-abf0-49e7-aded-92d853881443"
      },
      "outputs": [
        {
          "data": {
            "text/html": [
              "\n",
              "  <div id=\"df-95ff3adf-7699-4afb-a2c8-3ddfc64bb48f\">\n",
              "    <div class=\"colab-df-container\">\n",
              "      <div>\n",
              "<style scoped>\n",
              "    .dataframe tbody tr th:only-of-type {\n",
              "        vertical-align: middle;\n",
              "    }\n",
              "\n",
              "    .dataframe tbody tr th {\n",
              "        vertical-align: top;\n",
              "    }\n",
              "\n",
              "    .dataframe thead th {\n",
              "        text-align: right;\n",
              "    }\n",
              "</style>\n",
              "<table border=\"1\" class=\"dataframe\">\n",
              "  <thead>\n",
              "    <tr style=\"text-align: right;\">\n",
              "      <th></th>\n",
              "      <th>Id</th>\n",
              "      <th>Name</th>\n",
              "      <th>Lat</th>\n",
              "      <th>Long</th>\n",
              "      <th>Dock Count</th>\n",
              "      <th>City</th>\n",
              "      <th>Zipcode</th>\n",
              "    </tr>\n",
              "  </thead>\n",
              "  <tbody>\n",
              "    <tr>\n",
              "      <th>0</th>\n",
              "      <td>2</td>\n",
              "      <td>San Jose Diridon Caltrain Station</td>\n",
              "      <td>37.329732</td>\n",
              "      <td>-121.901782</td>\n",
              "      <td>27</td>\n",
              "      <td>San Jose</td>\n",
              "      <td>95110</td>\n",
              "    </tr>\n",
              "    <tr>\n",
              "      <th>1</th>\n",
              "      <td>3</td>\n",
              "      <td>San Jose Civic Center</td>\n",
              "      <td>37.330698</td>\n",
              "      <td>-121.888979</td>\n",
              "      <td>15</td>\n",
              "      <td>San Jose</td>\n",
              "      <td>95113</td>\n",
              "    </tr>\n",
              "    <tr>\n",
              "      <th>2</th>\n",
              "      <td>4</td>\n",
              "      <td>Santa Clara at Almaden</td>\n",
              "      <td>37.333988</td>\n",
              "      <td>-121.894902</td>\n",
              "      <td>11</td>\n",
              "      <td>San Jose</td>\n",
              "      <td>95110</td>\n",
              "    </tr>\n",
              "    <tr>\n",
              "      <th>3</th>\n",
              "      <td>5</td>\n",
              "      <td>Adobe on Almaden</td>\n",
              "      <td>37.331415</td>\n",
              "      <td>-121.893200</td>\n",
              "      <td>19</td>\n",
              "      <td>San Jose</td>\n",
              "      <td>95110</td>\n",
              "    </tr>\n",
              "    <tr>\n",
              "      <th>4</th>\n",
              "      <td>6</td>\n",
              "      <td>San Pedro Square</td>\n",
              "      <td>37.336721</td>\n",
              "      <td>-121.894074</td>\n",
              "      <td>15</td>\n",
              "      <td>San Jose</td>\n",
              "      <td>95110</td>\n",
              "    </tr>\n",
              "  </tbody>\n",
              "</table>\n",
              "</div>\n",
              "      <button class=\"colab-df-convert\" onclick=\"convertToInteractive('df-95ff3adf-7699-4afb-a2c8-3ddfc64bb48f')\"\n",
              "              title=\"Convert this dataframe to an interactive table.\"\n",
              "              style=\"display:none;\">\n",
              "        \n",
              "  <svg xmlns=\"http://www.w3.org/2000/svg\" height=\"24px\"viewBox=\"0 0 24 24\"\n",
              "       width=\"24px\">\n",
              "    <path d=\"M0 0h24v24H0V0z\" fill=\"none\"/>\n",
              "    <path d=\"M18.56 5.44l.94 2.06.94-2.06 2.06-.94-2.06-.94-.94-2.06-.94 2.06-2.06.94zm-11 1L8.5 8.5l.94-2.06 2.06-.94-2.06-.94L8.5 2.5l-.94 2.06-2.06.94zm10 10l.94 2.06.94-2.06 2.06-.94-2.06-.94-.94-2.06-.94 2.06-2.06.94z\"/><path d=\"M17.41 7.96l-1.37-1.37c-.4-.4-.92-.59-1.43-.59-.52 0-1.04.2-1.43.59L10.3 9.45l-7.72 7.72c-.78.78-.78 2.05 0 2.83L4 21.41c.39.39.9.59 1.41.59.51 0 1.02-.2 1.41-.59l7.78-7.78 2.81-2.81c.8-.78.8-2.07 0-2.86zM5.41 20L4 18.59l7.72-7.72 1.47 1.35L5.41 20z\"/>\n",
              "  </svg>\n",
              "      </button>\n",
              "      \n",
              "  <style>\n",
              "    .colab-df-container {\n",
              "      display:flex;\n",
              "      flex-wrap:wrap;\n",
              "      gap: 12px;\n",
              "    }\n",
              "\n",
              "    .colab-df-convert {\n",
              "      background-color: #E8F0FE;\n",
              "      border: none;\n",
              "      border-radius: 50%;\n",
              "      cursor: pointer;\n",
              "      display: none;\n",
              "      fill: #1967D2;\n",
              "      height: 32px;\n",
              "      padding: 0 0 0 0;\n",
              "      width: 32px;\n",
              "    }\n",
              "\n",
              "    .colab-df-convert:hover {\n",
              "      background-color: #E2EBFA;\n",
              "      box-shadow: 0px 1px 2px rgba(60, 64, 67, 0.3), 0px 1px 3px 1px rgba(60, 64, 67, 0.15);\n",
              "      fill: #174EA6;\n",
              "    }\n",
              "\n",
              "    [theme=dark] .colab-df-convert {\n",
              "      background-color: #3B4455;\n",
              "      fill: #D2E3FC;\n",
              "    }\n",
              "\n",
              "    [theme=dark] .colab-df-convert:hover {\n",
              "      background-color: #434B5C;\n",
              "      box-shadow: 0px 1px 3px 1px rgba(0, 0, 0, 0.15);\n",
              "      filter: drop-shadow(0px 1px 2px rgba(0, 0, 0, 0.3));\n",
              "      fill: #FFFFFF;\n",
              "    }\n",
              "  </style>\n",
              "\n",
              "      <script>\n",
              "        const buttonEl =\n",
              "          document.querySelector('#df-95ff3adf-7699-4afb-a2c8-3ddfc64bb48f button.colab-df-convert');\n",
              "        buttonEl.style.display =\n",
              "          google.colab.kernel.accessAllowed ? 'block' : 'none';\n",
              "\n",
              "        async function convertToInteractive(key) {\n",
              "          const element = document.querySelector('#df-95ff3adf-7699-4afb-a2c8-3ddfc64bb48f');\n",
              "          const dataTable =\n",
              "            await google.colab.kernel.invokeFunction('convertToInteractive',\n",
              "                                                     [key], {});\n",
              "          if (!dataTable) return;\n",
              "\n",
              "          const docLinkHtml = 'Like what you see? Visit the ' +\n",
              "            '<a target=\"_blank\" href=https://colab.research.google.com/notebooks/data_table.ipynb>data table notebook</a>'\n",
              "            + ' to learn more about interactive tables.';\n",
              "          element.innerHTML = '';\n",
              "          dataTable['output_type'] = 'display_data';\n",
              "          await google.colab.output.renderOutput(dataTable, element);\n",
              "          const docLink = document.createElement('div');\n",
              "          docLink.innerHTML = docLinkHtml;\n",
              "          element.appendChild(docLink);\n",
              "        }\n",
              "      </script>\n",
              "    </div>\n",
              "  </div>\n",
              "  "
            ],
            "text/plain": [
              "   Id                               Name        Lat        Long  Dock Count  \\\n",
              "0   2  San Jose Diridon Caltrain Station  37.329732 -121.901782          27   \n",
              "1   3              San Jose Civic Center  37.330698 -121.888979          15   \n",
              "2   4             Santa Clara at Almaden  37.333988 -121.894902          11   \n",
              "3   5                   Adobe on Almaden  37.331415 -121.893200          19   \n",
              "4   6                   San Pedro Square  37.336721 -121.894074          15   \n",
              "\n",
              "       City Zipcode  \n",
              "0  San Jose   95110  \n",
              "1  San Jose   95113  \n",
              "2  San Jose   95110  \n",
              "3  San Jose   95110  \n",
              "4  San Jose   95110  "
            ]
          },
          "execution_count": 34,
          "metadata": {},
          "output_type": "execute_result"
        }
      ],
      "source": [
        "data.head()"
      ]
    },
    {
      "cell_type": "code",
      "execution_count": 36,
      "id": "XhKOvQ4AIARH",
      "metadata": {
        "colab": {
          "base_uri": "https://localhost:8080/"
        },
        "id": "XhKOvQ4AIARH",
        "outputId": "a525fbae-c706-4ce8-8abd-adc5013bb5c1"
      },
      "outputs": [
        {
          "data": {
            "text/plain": [
              "1"
            ]
          },
          "execution_count": 36,
          "metadata": {},
          "output_type": "execute_result"
        }
      ],
      "source": [
        "data['Zipcode'].isna().sum()"
      ]
    },
    {
      "cell_type": "code",
      "execution_count": 40,
      "id": "yXjJ0FUkIEdl",
      "metadata": {
        "colab": {
          "base_uri": "https://localhost:8080/"
        },
        "id": "yXjJ0FUkIEdl",
        "outputId": "a9a021f2-339f-42e4-87e5-f241eca3af36"
      },
      "outputs": [
        {
          "data": {
            "text/plain": [
              "0"
            ]
          },
          "execution_count": 40,
          "metadata": {},
          "output_type": "execute_result"
        }
      ],
      "source": [
        "data.dropna(inplace=True)\n",
        "data['Zipcode'].isna().sum()"
      ]
    },
    {
      "cell_type": "markdown",
      "id": "piu8TMr4IoWv",
      "metadata": {
        "id": "piu8TMr4IoWv"
      },
      "source": [
        "Now we can use our zipcode data to proceed with analysis or merge with other tables."
      ]
    },
    {
      "cell_type": "markdown",
      "id": "BxN-X5ZWI2KW",
      "metadata": {
        "id": "BxN-X5ZWI2KW"
      },
      "source": [
        "### Thank you!"
      ]
    }
  ],
  "metadata": {
    "colab": {
      "provenance": []
    },
    "kernelspec": {
      "display_name": "base",
      "language": "python",
      "name": "python3"
    },
    "language_info": {
      "codemirror_mode": {
        "name": "ipython",
        "version": 3
      },
      "file_extension": ".py",
      "mimetype": "text/x-python",
      "name": "python",
      "nbconvert_exporter": "python",
      "pygments_lexer": "ipython3",
      "version": "3.9.12"
    },
    "vscode": {
      "interpreter": {
        "hash": "68a7d3d4a21b35666e1f8c2438a5dac81f6dc500ff5096162e4cf94d9079d28e"
      }
    }
  },
  "nbformat": 4,
  "nbformat_minor": 5
}
